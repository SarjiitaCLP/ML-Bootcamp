{
  "nbformat": 4,
  "nbformat_minor": 0,
  "metadata": {
    "colab": {
      "name": "Multi-class_Logistic_Regression.ipynb",
      "provenance": [],
      "collapsed_sections": []
    },
    "kernelspec": {
      "name": "python3",
      "display_name": "Python 3"
    },
    "language_info": {
      "name": "python"
    }
  },
  "cells": [
    {
      "cell_type": "code",
      "metadata": {
        "id": "cc_Qm7d1QMDz"
      },
      "source": [
        "#import the libraries \n",
        "\n",
        "import pandas as pd\n",
        "import numpy as np"
      ],
      "execution_count": null,
      "outputs": []
    },
    {
      "cell_type": "code",
      "metadata": {
        "id": "g4OsfX-zQZl0"
      },
      "source": [
        "#load the training dataset\n",
        "\n",
        "df=pd.read_csv('sample_data/mnist_train_small.csv')"
      ],
      "execution_count": null,
      "outputs": []
    },
    {
      "cell_type": "code",
      "metadata": {
        "id": "H8V9W_ycQfFF",
        "colab": {
          "base_uri": "https://localhost:8080/"
        },
        "outputId": "23d0d8f0-81d9-46fa-b393-1e604fc9b16d"
      },
      "source": [
        "#split df into feature set 'train_X' and label 'train_y'\n",
        "\n",
        "train_y,train_X=np.hsplit(df,[1])\n",
        "print(train_y.head())\n",
        "print(train_X.head())"
      ],
      "execution_count": null,
      "outputs": [
        {
          "output_type": "stream",
          "text": [
            "   6\n",
            "0  5\n",
            "1  7\n",
            "2  9\n",
            "3  5\n",
            "4  2\n",
            "   0  0.1  0.2  0.3  0.4  0.5  ...  0.585  0.586  0.587  0.588  0.589  0.590\n",
            "0  0    0    0    0    0    0  ...      0      0      0      0      0      0\n",
            "1  0    0    0    0    0    0  ...      0      0      0      0      0      0\n",
            "2  0    0    0    0    0    0  ...      0      0      0      0      0      0\n",
            "3  0    0    0    0    0    0  ...      0      0      0      0      0      0\n",
            "4  0    0    0    0    0    0  ...      0      0      0      0      0      0\n",
            "\n",
            "[5 rows x 784 columns]\n"
          ],
          "name": "stdout"
        }
      ]
    },
    {
      "cell_type": "code",
      "metadata": {
        "id": "hmhvEROPQirS",
        "colab": {
          "base_uri": "https://localhost:8080/"
        },
        "outputId": "d67090b5-b8cb-45f1-a5f1-b55e417f8848"
      },
      "source": [
        "#normalize the feature set 'train_X' to get 'train_x'\n",
        "\n",
        "train_x=train_X.copy()\n",
        "\n",
        "#get the maximum datapoint in the entire feature set 'train_x'\n",
        "maximum=train_x.max().max()  \n",
        "print(maximum)\n",
        "\n",
        "#divide the entire feature set 'train_x' with 'maximum'\n",
        "train_x=train_x.div(maximum) \n",
        "train_x=train_x.astype('float64')\n",
        "print (train_x.sample(5))"
      ],
      "execution_count": null,
      "outputs": [
        {
          "output_type": "stream",
          "text": [
            "255\n",
            "         0  0.1  0.2  0.3  0.4  0.5  ...  0.585  0.586  0.587  0.588  0.589  0.590\n",
            "2701   0.0  0.0  0.0  0.0  0.0  0.0  ...    0.0    0.0    0.0    0.0    0.0    0.0\n",
            "1984   0.0  0.0  0.0  0.0  0.0  0.0  ...    0.0    0.0    0.0    0.0    0.0    0.0\n",
            "7412   0.0  0.0  0.0  0.0  0.0  0.0  ...    0.0    0.0    0.0    0.0    0.0    0.0\n",
            "414    0.0  0.0  0.0  0.0  0.0  0.0  ...    0.0    0.0    0.0    0.0    0.0    0.0\n",
            "16108  0.0  0.0  0.0  0.0  0.0  0.0  ...    0.0    0.0    0.0    0.0    0.0    0.0\n",
            "\n",
            "[5 rows x 784 columns]\n"
          ],
          "name": "stdout"
        }
      ]
    },
    {
      "cell_type": "code",
      "metadata": {
        "id": "WclCtuhAQmSj",
        "colab": {
          "base_uri": "https://localhost:8080/"
        },
        "outputId": "a9dae904-e997-47b9-9732-1ff4706681cf"
      },
      "source": [
        "#Add the bias column to the feature set 'train_x'\n",
        "\n",
        "train_x=pd.concat([pd.Series(1.0,index=train_x.index,name='00'),train_x],axis=1)\n",
        "print(train_x.head())\n",
        "\n",
        "#'train_x_row' = number of rows in the feature set 'train_x'\n",
        "train_x_row=train_x.shape[0]\n",
        "print(train_x_row)\n",
        "\n",
        "#'train_x_col' = number of columns in the feature set 'train_x'\n",
        "train_x_col=train_x.shape[1]\n",
        "print(train_x_col)"
      ],
      "execution_count": null,
      "outputs": [
        {
          "output_type": "stream",
          "text": [
            "    00    0  0.1  0.2  0.3  0.4  ...  0.585  0.586  0.587  0.588  0.589  0.590\n",
            "0  1.0  0.0  0.0  0.0  0.0  0.0  ...    0.0    0.0    0.0    0.0    0.0    0.0\n",
            "1  1.0  0.0  0.0  0.0  0.0  0.0  ...    0.0    0.0    0.0    0.0    0.0    0.0\n",
            "2  1.0  0.0  0.0  0.0  0.0  0.0  ...    0.0    0.0    0.0    0.0    0.0    0.0\n",
            "3  1.0  0.0  0.0  0.0  0.0  0.0  ...    0.0    0.0    0.0    0.0    0.0    0.0\n",
            "4  1.0  0.0  0.0  0.0  0.0  0.0  ...    0.0    0.0    0.0    0.0    0.0    0.0\n",
            "\n",
            "[5 rows x 785 columns]\n",
            "19999\n",
            "785\n"
          ],
          "name": "stdout"
        }
      ]
    },
    {
      "cell_type": "code",
      "metadata": {
        "id": "mgw4t_3sQ8xK",
        "colab": {
          "base_uri": "https://localhost:8080/"
        },
        "outputId": "6f15a92c-8039-471d-bc6d-8091ea6105d3"
      },
      "source": [
        "#check out how many unique classes are present in 'train_y'\n",
        "\n",
        "train_y=train_y.iloc[:,0]\n",
        "print(train_y.unique())\n",
        "\n",
        "#'u' is an array containing all the unique class values \n",
        "u=train_y.unique()\n",
        "clas=len(u)\n",
        "print(clas)"
      ],
      "execution_count": null,
      "outputs": [
        {
          "output_type": "stream",
          "text": [
            "[5 7 9 2 0 6 8 3 4 1]\n",
            "10\n"
          ],
          "name": "stdout"
        }
      ]
    },
    {
      "cell_type": "code",
      "metadata": {
        "id": "hib6SOR0QpPm"
      },
      "source": [
        "#convert feature and label dataframes to numpy array\n",
        "\n",
        "train_x=train_x.to_numpy()\n",
        "train_y=train_y.to_numpy()"
      ],
      "execution_count": null,
      "outputs": []
    },
    {
      "cell_type": "code",
      "metadata": {
        "id": "sp_g9cwJQ71u",
        "colab": {
          "base_uri": "https://localhost:8080/"
        },
        "outputId": "aa6872c5-5d61-4758-f117-e154f7131435"
      },
      "source": [
        "#enable one hot classification\n",
        "\n",
        "one_hot_label=np.empty([train_x_row,clas])\n",
        "for i in range(clas):\n",
        "    for j in range(train_x_row):\n",
        "        if(train_y[j]==u[i]):\n",
        "            one_hot_label[j,i]=1\n",
        "        else:\n",
        "            one_hot_label[j,i]=0\n",
        "print(one_hot_label[:10]) "
      ],
      "execution_count": null,
      "outputs": [
        {
          "output_type": "stream",
          "text": [
            "[[1. 0. 0. 0. 0. 0. 0. 0. 0. 0.]\n",
            " [0. 1. 0. 0. 0. 0. 0. 0. 0. 0.]\n",
            " [0. 0. 1. 0. 0. 0. 0. 0. 0. 0.]\n",
            " [1. 0. 0. 0. 0. 0. 0. 0. 0. 0.]\n",
            " [0. 0. 0. 1. 0. 0. 0. 0. 0. 0.]\n",
            " [0. 0. 0. 0. 1. 0. 0. 0. 0. 0.]\n",
            " [0. 0. 0. 0. 0. 1. 0. 0. 0. 0.]\n",
            " [1. 0. 0. 0. 0. 0. 0. 0. 0. 0.]\n",
            " [1. 0. 0. 0. 0. 0. 0. 0. 0. 0.]\n",
            " [0. 0. 0. 1. 0. 0. 0. 0. 0. 0.]]\n"
          ],
          "name": "stdout"
        }
      ]
    },
    {
      "cell_type": "code",
      "metadata": {
        "id": "qvkMNJGJ7yjE"
      },
      "source": [
        "#define the class logistic_regression\n",
        "\n",
        "class log_reg:\n",
        "\n",
        "  @staticmethod\n",
        "\n",
        "  #define the hypothesis to calculate the expression (theta0*x0 + theta1*x1 + theta2*x2 + .....)\n",
        "\n",
        "  def hypothesis(train_x,theta):\n",
        "    hypothesis_output=np.dot(train_x,theta)\n",
        "    return hypothesis_output\n",
        "\n",
        "  #define the sigmoid function\n",
        "\n",
        "  def sigmoid(pred):\n",
        "    return 1/(1+np.exp(-pred))\n",
        "    \n",
        "   #define the derivative of sigmoid function\n",
        "\n",
        "  def sigmoid_grad(sigmoid_output):\n",
        "    return sigmoid_output*(1-sigmoid_output)\n",
        "\n",
        "  #calculate the error\n",
        "\n",
        "  def error(sigmoid_der,one_hot_label_column):\n",
        "    err=np.zeros(train_x_row,dtype='float64')\n",
        "    for i in range(train_x_row):\n",
        "      err[i]=sigmoid_der[i]-one_hot_label_column[i]\n",
        "    return err\n",
        "\n",
        "  #define the training function\n",
        "\n",
        "  def train(train_x,one_hot_label,theta,alpha,epoch):\n",
        "    #error_cost=[]\n",
        "    for i in range(clas):\n",
        "      for j in range(epoch):\n",
        "        pred=log_reg.hypothesis(train_x,theta[:,i])\n",
        "        sigmoid_output=log_reg.sigmoid(pred)\n",
        "        sigmoid_der=log_reg.sigmoid_grad(sigmoid_output)\n",
        "        err=log_reg.error(sigmoid_output,one_hot_label[:,i])\n",
        "        final_error=np.dot(train_x.T,np.multiply(sigmoid_der,err))\n",
        "        theta[:,i]-=alpha*final_error\n",
        "        \n",
        "    return theta"
      ],
      "execution_count": null,
      "outputs": []
    },
    {
      "cell_type": "code",
      "metadata": {
        "id": "ZKDsS8oyQ0TJ"
      },
      "source": [
        "#initialize theta array with random numbers\n",
        "\n",
        "np.random.seed(0)\n",
        "theta=np.random.rand(train_x_col,clas).astype('float64')"
      ],
      "execution_count": null,
      "outputs": []
    },
    {
      "cell_type": "code",
      "metadata": {
        "id": "3i8s784VTMgi"
      },
      "source": [
        "#call the training function to train the dataset\n",
        "#passing 0.001 as learning rate & 500 as epoch\n",
        "\n",
        "theta=log_reg.train(train_x,one_hot_label,theta,0.001,500)"
      ],
      "execution_count": null,
      "outputs": []
    },
    {
      "cell_type": "code",
      "metadata": {
        "id": "-OQFwAfQOhmv",
        "colab": {
          "base_uri": "https://localhost:8080/"
        },
        "outputId": "63361cd4-d10c-40ed-fc8d-8b057acc9041"
      },
      "source": [
        "#print the theta values\n",
        "\n",
        "print(theta)"
      ],
      "execution_count": null,
      "outputs": [
        {
          "output_type": "stream",
          "text": [
            "[[0.54880904 0.71517801 0.60270837 ... 0.89175585 0.96363576 0.38344113]\n",
            " [0.79172504 0.52889492 0.56804456 ... 0.83261985 0.77815675 0.87001215]\n",
            " [0.97861834 0.79915856 0.46147936 ... 0.94466892 0.52184832 0.41466194]\n",
            " ...\n",
            " [0.33454415 0.90685483 0.07935625 ... 0.5302586  0.69834735 0.54570634]\n",
            " [0.9224717  0.55167759 0.91966573 ... 0.34255462 0.89937395 0.14921479]\n",
            " [0.49014489 0.10474855 0.15254681 ... 0.66072791 0.49932947 0.34177239]]\n"
          ],
          "name": "stdout"
        }
      ]
    },
    {
      "cell_type": "code",
      "metadata": {
        "id": "IYnRBez6ut38"
      },
      "source": [
        "#load the test dataset\n",
        "\n",
        "data=pd.read_csv('sample_data/mnist_test.csv')"
      ],
      "execution_count": null,
      "outputs": []
    },
    {
      "cell_type": "code",
      "metadata": {
        "id": "rfIC0Eg0o8uj",
        "colab": {
          "base_uri": "https://localhost:8080/"
        },
        "outputId": "b74da82c-70c4-4e96-ec36-ba4b270b1f5c"
      },
      "source": [
        "#split 'data' into feature set 'test_X' and label 'test_y'\n",
        "\n",
        "test_y,test_X=np.hsplit(data,[1])\n",
        "print(test_y.head())\n",
        "print(test_X.head())"
      ],
      "execution_count": null,
      "outputs": [
        {
          "output_type": "stream",
          "text": [
            "   7\n",
            "0  2\n",
            "1  1\n",
            "2  0\n",
            "3  4\n",
            "4  1\n",
            "   0  0.1  0.2  0.3  0.4  0.5  ...  0.662  0.663  0.664  0.665  0.666  0.667\n",
            "0  0    0    0    0    0    0  ...      0      0      0      0      0      0\n",
            "1  0    0    0    0    0    0  ...      0      0      0      0      0      0\n",
            "2  0    0    0    0    0    0  ...      0      0      0      0      0      0\n",
            "3  0    0    0    0    0    0  ...      0      0      0      0      0      0\n",
            "4  0    0    0    0    0    0  ...      0      0      0      0      0      0\n",
            "\n",
            "[5 rows x 784 columns]\n"
          ],
          "name": "stdout"
        }
      ]
    },
    {
      "cell_type": "code",
      "metadata": {
        "id": "WmsCsutQo_-O",
        "colab": {
          "base_uri": "https://localhost:8080/"
        },
        "outputId": "b7a2688e-009c-4b70-80b0-3f15b22a3b03"
      },
      "source": [
        "#normalize the feature set 'test_X' to get 'test_x'\n",
        "\n",
        "test_x=test_X.copy()\n",
        "test_maximum=test_x.max().max()\n",
        "print(test_maximum)\n",
        "\n",
        "test_x=test_x.div(test_maximum)\n",
        "test_x=test_x.astype('float64')\n",
        "print (test_x.sample(5))"
      ],
      "execution_count": null,
      "outputs": [
        {
          "output_type": "stream",
          "text": [
            "255\n",
            "        0  0.1  0.2  0.3  0.4  0.5  ...  0.662  0.663  0.664  0.665  0.666  0.667\n",
            "3232  0.0  0.0  0.0  0.0  0.0  0.0  ...    0.0    0.0    0.0    0.0    0.0    0.0\n",
            "8795  0.0  0.0  0.0  0.0  0.0  0.0  ...    0.0    0.0    0.0    0.0    0.0    0.0\n",
            "4990  0.0  0.0  0.0  0.0  0.0  0.0  ...    0.0    0.0    0.0    0.0    0.0    0.0\n",
            "9994  0.0  0.0  0.0  0.0  0.0  0.0  ...    0.0    0.0    0.0    0.0    0.0    0.0\n",
            "7442  0.0  0.0  0.0  0.0  0.0  0.0  ...    0.0    0.0    0.0    0.0    0.0    0.0\n",
            "\n",
            "[5 rows x 784 columns]\n"
          ],
          "name": "stdout"
        }
      ]
    },
    {
      "cell_type": "code",
      "metadata": {
        "id": "o1vigeDTpDek",
        "colab": {
          "base_uri": "https://localhost:8080/"
        },
        "outputId": "95347a64-2483-4609-c098-97dee5dc3372"
      },
      "source": [
        "#Add the bias column to the feature dataframe 'test_x'\n",
        "\n",
        "test_x=pd.concat([pd.Series(1.0,index=test_x.index,name='00'),test_x],axis=1)\n",
        "print(test_x.head())\n",
        "\n",
        "#'test_x_row' = number of rows in feature set 'test_x'\n",
        "test_x_row=test_x.shape[0]\n",
        "print(test_x_row)\n",
        "\n",
        "#'test_x_col' = number of columns in feature set 'test_x'\n",
        "test_x_col=test_x.shape[1]\n",
        "print(test_x_col)"
      ],
      "execution_count": null,
      "outputs": [
        {
          "output_type": "stream",
          "text": [
            "    00    0  0.1  0.2  0.3  0.4  ...  0.662  0.663  0.664  0.665  0.666  0.667\n",
            "0  1.0  0.0  0.0  0.0  0.0  0.0  ...    0.0    0.0    0.0    0.0    0.0    0.0\n",
            "1  1.0  0.0  0.0  0.0  0.0  0.0  ...    0.0    0.0    0.0    0.0    0.0    0.0\n",
            "2  1.0  0.0  0.0  0.0  0.0  0.0  ...    0.0    0.0    0.0    0.0    0.0    0.0\n",
            "3  1.0  0.0  0.0  0.0  0.0  0.0  ...    0.0    0.0    0.0    0.0    0.0    0.0\n",
            "4  1.0  0.0  0.0  0.0  0.0  0.0  ...    0.0    0.0    0.0    0.0    0.0    0.0\n",
            "\n",
            "[5 rows x 785 columns]\n",
            "9999\n",
            "785\n"
          ],
          "name": "stdout"
        }
      ]
    },
    {
      "cell_type": "code",
      "metadata": {
        "id": "pkejJ64DpHgV"
      },
      "source": [
        "#convert the dataframes into numpy arrays\n",
        "\n",
        "test_y=test_y.to_numpy()\n",
        "test_x=test_x.to_numpy()"
      ],
      "execution_count": null,
      "outputs": []
    },
    {
      "cell_type": "code",
      "metadata": {
        "id": "bRK7rVDjpU6v",
        "colab": {
          "base_uri": "https://localhost:8080/"
        },
        "outputId": "a8f1f355-865b-4d88-ddee-91c87fb98eaa"
      },
      "source": [
        "#create one_hot_label for test dataset\n",
        "\n",
        "test_one_hot_label=np.empty([test_x_row,clas])\n",
        "for i in range(clas):\n",
        "    for j in range(test_x_row):\n",
        "        if(test_y[j]==u[i]):\n",
        "            test_one_hot_label[j,i]=1\n",
        "        else:\n",
        "            test_one_hot_label[j,i]=0\n",
        "print(test_one_hot_label[:10]) "
      ],
      "execution_count": null,
      "outputs": [
        {
          "output_type": "stream",
          "text": [
            "[[0. 0. 0. 1. 0. 0. 0. 0. 0. 0.]\n",
            " [0. 0. 0. 0. 0. 0. 0. 0. 0. 1.]\n",
            " [0. 0. 0. 0. 1. 0. 0. 0. 0. 0.]\n",
            " [0. 0. 0. 0. 0. 0. 0. 0. 1. 0.]\n",
            " [0. 0. 0. 0. 0. 0. 0. 0. 0. 1.]\n",
            " [0. 0. 0. 0. 0. 0. 0. 0. 1. 0.]\n",
            " [0. 0. 1. 0. 0. 0. 0. 0. 0. 0.]\n",
            " [1. 0. 0. 0. 0. 0. 0. 0. 0. 0.]\n",
            " [0. 0. 1. 0. 0. 0. 0. 0. 0. 0.]\n",
            " [0. 0. 0. 0. 1. 0. 0. 0. 0. 0.]]\n"
          ],
          "name": "stdout"
        }
      ]
    },
    {
      "cell_type": "code",
      "metadata": {
        "id": "pW-p-suJrD5j",
        "colab": {
          "base_uri": "https://localhost:8080/"
        },
        "outputId": "8c6bc8a8-3e8c-490a-e46f-da28e4a30ed2"
      },
      "source": [
        "#predict values in test dataset\n",
        "\n",
        "test_output=np.empty([clas,test_x_row])\n",
        "for i in range(clas):\n",
        "  t_output=log_reg.hypothesis(test_x,theta)\n",
        "  t_likelihood=log_reg.sigmoid(t_output)\n",
        "  np.append(test_output,t_likelihood)\n",
        "print(test_output)"
      ],
      "execution_count": null,
      "outputs": [
        {
          "output_type": "stream",
          "text": [
            "[[1. 1. 1. ... 1. 1. 1.]\n",
            " [1. 1. 1. ... 1. 1. 1.]\n",
            " [1. 1. 1. ... 1. 1. 1.]\n",
            " ...\n",
            " [1. 1. 1. ... 1. 1. 1.]\n",
            " [1. 1. 1. ... 1. 1. 1.]\n",
            " [1. 1. 1. ... 1. 1. 1.]]\n"
          ],
          "name": "stdout"
        }
      ]
    },
    {
      "cell_type": "code",
      "metadata": {
        "id": "tzscvjUSqGzd",
        "colab": {
          "base_uri": "https://localhost:8080/"
        },
        "outputId": "432ae1d2-25f4-45d0-c3a9-01fe4a515c00"
      },
      "source": [
        "#calculate accuracy for test dataset\n",
        "\n",
        "test_accuracy = 0\n",
        "for col in range(0, 10):\n",
        "    for row in range(test_x_row):\n",
        "        if test_one_hot_label[row][col] == 1 and test_output[col][row] >= 0.5:\n",
        "            test_accuracy += 1\n",
        "test_accuracy = test_accuracy/train_x_row\n",
        "print(test_accuracy)"
      ],
      "execution_count": null,
      "outputs": [
        {
          "output_type": "stream",
          "text": [
            "0.4999749987499375\n"
          ],
          "name": "stdout"
        }
      ]
    }
  ]
}
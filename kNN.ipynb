{
  "nbformat": 4,
  "nbformat_minor": 0,
  "metadata": {
    "colab": {
      "name": "kNN.ipynb",
      "provenance": [],
      "collapsed_sections": []
    },
    "kernelspec": {
      "name": "python3",
      "display_name": "Python 3"
    },
    "language_info": {
      "name": "python"
    }
  },
  "cells": [
    {
      "cell_type": "code",
      "metadata": {
        "id": "_0qvFewPg4Tq"
      },
      "source": [
        "#import the libraries \n",
        "\n",
        "import pandas as pd\n",
        "import numpy as np"
      ],
      "execution_count": null,
      "outputs": []
    },
    {
      "cell_type": "code",
      "metadata": {
        "id": "g4OsfX-zQZl0"
      },
      "source": [
        "#load the training dataset\n",
        "\n",
        "df=pd.read_csv('sample_data/mnist_train_small.csv')"
      ],
      "execution_count": null,
      "outputs": []
    },
    {
      "cell_type": "code",
      "metadata": {
        "colab": {
          "base_uri": "https://localhost:8080/"
        },
        "id": "XSOZyxcHiLhY",
        "outputId": "e5b52928-a616-4103-ad04-d04351bdec48"
      },
      "source": [
        "#split df into feature set 'train_X' and label 'train_y'\n",
        "\n",
        "train_y,train_X=np.hsplit(df,[1])\n",
        "print(train_y.head())\n",
        "print(train_X.head())"
      ],
      "execution_count": null,
      "outputs": [
        {
          "output_type": "stream",
          "text": [
            "   6\n",
            "0  5\n",
            "1  7\n",
            "2  9\n",
            "3  5\n",
            "4  2\n",
            "   0  0.1  0.2  0.3  0.4  0.5  ...  0.585  0.586  0.587  0.588  0.589  0.590\n",
            "0  0    0    0    0    0    0  ...      0      0      0      0      0      0\n",
            "1  0    0    0    0    0    0  ...      0      0      0      0      0      0\n",
            "2  0    0    0    0    0    0  ...      0      0      0      0      0      0\n",
            "3  0    0    0    0    0    0  ...      0      0      0      0      0      0\n",
            "4  0    0    0    0    0    0  ...      0      0      0      0      0      0\n",
            "\n",
            "[5 rows x 784 columns]\n"
          ],
          "name": "stdout"
        }
      ]
    },
    {
      "cell_type": "code",
      "metadata": {
        "colab": {
          "base_uri": "https://localhost:8080/"
        },
        "id": "s9bWpmIZiPHI",
        "outputId": "b2db81de-9397-4db8-dfd5-9bb3ae1a20f5"
      },
      "source": [
        "#normalize the feature set 'train_X' to get 'train_x'\n",
        "\n",
        "train_x=train_X.copy()\n",
        "\n",
        "#get the maximum datapoint in the entire feature set 'train_x'\n",
        "maximum=train_x.max().max()  \n",
        "print(maximum)\n",
        "\n",
        "#divide the entire feature set 'train_x' with 'maximum'\n",
        "train_x=train_x.div(maximum) \n",
        "train_x=train_x.astype('float64')\n",
        "print (train_x.sample(5))"
      ],
      "execution_count": null,
      "outputs": [
        {
          "output_type": "stream",
          "text": [
            "255\n",
            "         0  0.1  0.2  0.3  0.4  0.5  ...  0.585  0.586  0.587  0.588  0.589  0.590\n",
            "1312   0.0  0.0  0.0  0.0  0.0  0.0  ...    0.0    0.0    0.0    0.0    0.0    0.0\n",
            "18820  0.0  0.0  0.0  0.0  0.0  0.0  ...    0.0    0.0    0.0    0.0    0.0    0.0\n",
            "1030   0.0  0.0  0.0  0.0  0.0  0.0  ...    0.0    0.0    0.0    0.0    0.0    0.0\n",
            "19935  0.0  0.0  0.0  0.0  0.0  0.0  ...    0.0    0.0    0.0    0.0    0.0    0.0\n",
            "10393  0.0  0.0  0.0  0.0  0.0  0.0  ...    0.0    0.0    0.0    0.0    0.0    0.0\n",
            "\n",
            "[5 rows x 784 columns]\n"
          ],
          "name": "stdout"
        }
      ]
    },
    {
      "cell_type": "code",
      "metadata": {
        "colab": {
          "base_uri": "https://localhost:8080/"
        },
        "id": "9nzlIXfviS4Z",
        "outputId": "b5a19351-3dac-4d38-c140-3ddd52b004ac"
      },
      "source": [
        "#Add the bias column to the feature set 'train_x'\n",
        "\n",
        "train_x=pd.concat([pd.Series(1.0,index=train_x.index,name='00'),train_x],axis=1)\n",
        "print(train_x.head())\n",
        "\n",
        "#'train_x_row' = number of rows in the feature set 'train_x'\n",
        "train_x_row=train_x.shape[0]\n",
        "print(train_x_row)\n",
        "\n",
        "#'train_x_col' = number of columns in the feature set 'train_x'\n",
        "train_x_col=train_x.shape[1]\n",
        "print(train_x_col)"
      ],
      "execution_count": null,
      "outputs": [
        {
          "output_type": "stream",
          "text": [
            "    00    0  0.1  0.2  0.3  0.4  ...  0.585  0.586  0.587  0.588  0.589  0.590\n",
            "0  1.0  0.0  0.0  0.0  0.0  0.0  ...    0.0    0.0    0.0    0.0    0.0    0.0\n",
            "1  1.0  0.0  0.0  0.0  0.0  0.0  ...    0.0    0.0    0.0    0.0    0.0    0.0\n",
            "2  1.0  0.0  0.0  0.0  0.0  0.0  ...    0.0    0.0    0.0    0.0    0.0    0.0\n",
            "3  1.0  0.0  0.0  0.0  0.0  0.0  ...    0.0    0.0    0.0    0.0    0.0    0.0\n",
            "4  1.0  0.0  0.0  0.0  0.0  0.0  ...    0.0    0.0    0.0    0.0    0.0    0.0\n",
            "\n",
            "[5 rows x 785 columns]\n",
            "19999\n",
            "785\n"
          ],
          "name": "stdout"
        }
      ]
    },
    {
      "cell_type": "code",
      "metadata": {
        "id": "d07SnCIadvCn"
      },
      "source": [
        "#convert feature and label dataframes to numpy array\n",
        "\n",
        "train_x=train_x.to_numpy()\n",
        "train_y=train_y.to_numpy()"
      ],
      "execution_count": null,
      "outputs": []
    },
    {
      "cell_type": "code",
      "metadata": {
        "id": "IYnRBez6ut38"
      },
      "source": [
        "#load the test dataset\n",
        "\n",
        "data=pd.read_csv('sample_data/mnist_test.csv')"
      ],
      "execution_count": null,
      "outputs": []
    },
    {
      "cell_type": "code",
      "metadata": {
        "id": "szQk67e8u5Df",
        "colab": {
          "base_uri": "https://localhost:8080/"
        },
        "outputId": "aefa43b7-4b6d-46d3-cf64-06063f38565f"
      },
      "source": [
        "#split 'data' into feature set 'test_X' and label 'test_y'\n",
        "\n",
        "test_y,test_X=np.hsplit(data,[1])\n",
        "print(test_y.head())\n",
        "print(test_X.head())"
      ],
      "execution_count": null,
      "outputs": [
        {
          "output_type": "stream",
          "text": [
            "   7\n",
            "0  2\n",
            "1  1\n",
            "2  0\n",
            "3  4\n",
            "4  1\n",
            "   0  0.1  0.2  0.3  0.4  0.5  ...  0.662  0.663  0.664  0.665  0.666  0.667\n",
            "0  0    0    0    0    0    0  ...      0      0      0      0      0      0\n",
            "1  0    0    0    0    0    0  ...      0      0      0      0      0      0\n",
            "2  0    0    0    0    0    0  ...      0      0      0      0      0      0\n",
            "3  0    0    0    0    0    0  ...      0      0      0      0      0      0\n",
            "4  0    0    0    0    0    0  ...      0      0      0      0      0      0\n",
            "\n",
            "[5 rows x 784 columns]\n"
          ],
          "name": "stdout"
        }
      ]
    },
    {
      "cell_type": "code",
      "metadata": {
        "id": "EACjqcfAu8Wc",
        "colab": {
          "base_uri": "https://localhost:8080/"
        },
        "outputId": "6641438a-c851-40b0-cd7b-6c0f89f0810e"
      },
      "source": [
        "#normalize the feature set 'test_X' to get 'test_x'\n",
        "\n",
        "test_x=test_X.copy()\n",
        "test_maximum=test_x.max().max()\n",
        "print(test_maximum)\n",
        "\n",
        "test_x=test_x.div(test_maximum)\n",
        "test_x=test_x.astype('float64')\n",
        "print (test_x.sample(5))"
      ],
      "execution_count": null,
      "outputs": [
        {
          "output_type": "stream",
          "text": [
            "255\n",
            "        0  0.1  0.2  0.3  0.4  0.5  ...  0.662  0.663  0.664  0.665  0.666  0.667\n",
            "6577  0.0  0.0  0.0  0.0  0.0  0.0  ...    0.0    0.0    0.0    0.0    0.0    0.0\n",
            "7147  0.0  0.0  0.0  0.0  0.0  0.0  ...    0.0    0.0    0.0    0.0    0.0    0.0\n",
            "4222  0.0  0.0  0.0  0.0  0.0  0.0  ...    0.0    0.0    0.0    0.0    0.0    0.0\n",
            "5496  0.0  0.0  0.0  0.0  0.0  0.0  ...    0.0    0.0    0.0    0.0    0.0    0.0\n",
            "9216  0.0  0.0  0.0  0.0  0.0  0.0  ...    0.0    0.0    0.0    0.0    0.0    0.0\n",
            "\n",
            "[5 rows x 784 columns]\n"
          ],
          "name": "stdout"
        }
      ]
    },
    {
      "cell_type": "code",
      "metadata": {
        "id": "WNxkqWApu_il",
        "colab": {
          "base_uri": "https://localhost:8080/"
        },
        "outputId": "39860d42-a9a7-4503-ced7-6b616490765e"
      },
      "source": [
        "#Add the bias column to the feature dataframe 'test_x'\n",
        "\n",
        "test_x=pd.concat([pd.Series(1.0,index=test_x.index,name='00'),test_x],axis=1)\n",
        "print(test_x.head())\n",
        "\n",
        "#'test_x_row' = number of rows in feature set 'test_x'\n",
        "test_x_row=test_x.shape[0]\n",
        "print(test_x_row)\n",
        "\n",
        "#'test_x_col' = number of columns in feature set 'test_x'\n",
        "test_x_col=test_x.shape[1]\n",
        "print(test_x_col)"
      ],
      "execution_count": null,
      "outputs": [
        {
          "output_type": "stream",
          "text": [
            "    00    0  0.1  0.2  0.3  0.4  ...  0.662  0.663  0.664  0.665  0.666  0.667\n",
            "0  1.0  0.0  0.0  0.0  0.0  0.0  ...    0.0    0.0    0.0    0.0    0.0    0.0\n",
            "1  1.0  0.0  0.0  0.0  0.0  0.0  ...    0.0    0.0    0.0    0.0    0.0    0.0\n",
            "2  1.0  0.0  0.0  0.0  0.0  0.0  ...    0.0    0.0    0.0    0.0    0.0    0.0\n",
            "3  1.0  0.0  0.0  0.0  0.0  0.0  ...    0.0    0.0    0.0    0.0    0.0    0.0\n",
            "4  1.0  0.0  0.0  0.0  0.0  0.0  ...    0.0    0.0    0.0    0.0    0.0    0.0\n",
            "\n",
            "[5 rows x 785 columns]\n",
            "9999\n",
            "785\n"
          ],
          "name": "stdout"
        }
      ]
    },
    {
      "cell_type": "code",
      "metadata": {
        "id": "fMyx3HsevCii"
      },
      "source": [
        "#convert the dataframes into numpy arrays\n",
        "\n",
        "test_y=test_y.to_numpy()\n",
        "test_x=test_x.to_numpy()"
      ],
      "execution_count": null,
      "outputs": []
    },
    {
      "cell_type": "code",
      "metadata": {
        "id": "CEP0TO6IEo7T"
      },
      "source": [
        "#define the class knn\n",
        "\n",
        "class knn:\n",
        "\n",
        "  @staticmethod\n",
        "\n",
        "  #define the Euclidian distance function to get distance between a test row and all training rows\n",
        "\n",
        "  def euclidian_distance(test_x,train_x):\n",
        "    distance=np.empty([test_x_row,train_x_row],dtype='float64')\n",
        "    for i in range(test_x_row):\n",
        "      for j in range(train_x_row):\n",
        "        distance[i][j]=np.linalg.norm(test_x[i]-train_x[j])\n",
        "    return distance\n",
        "\n",
        "  #sort the obtained distances to find k points closest to the test point\n",
        "\n",
        "  def sort(distance,k):\n",
        "    indices=np.empty([test_x_row,k],dtype='int32')\n",
        "    for i in range(test_x_row):\n",
        "        index=np.argpartition(distance[i],k)[:k]\n",
        "        indices[i]=index\n",
        "    return indices\n",
        "\n",
        "  #find class values corresponding to the obtained indices\n",
        "\n",
        "  def class_value(indices):\n",
        "    for i in range(test_x_row):\n",
        "        for j in range(k):\n",
        "            val=indices[i][j]\n",
        "            val=train_y[val]\n",
        "            indices[i][j]=val\n",
        "    class_value=indices\n",
        "    return class_value\n",
        "\n",
        "  #use majority class labels of the closest points to predict the class of the test point\n",
        "\n",
        "  def class_label(class_value):\n",
        "    class_label=np.empty(test_x_row,dtype='int32')\n",
        "    for i in range(test_x_row):\n",
        "        max_freq=np.bincount(class_value[i]).argmax()\n",
        "        class_label[i]=max_freq\n",
        "    return class_label"
      ],
      "execution_count": null,
      "outputs": []
    },
    {
      "cell_type": "code",
      "metadata": {
        "id": "BkGPHdHNU7YX"
      },
      "source": [
        "distance=knn.euclidian_distance(test_x,train_x)"
      ],
      "execution_count": null,
      "outputs": []
    },
    {
      "cell_type": "code",
      "metadata": {
        "colab": {
          "base_uri": "https://localhost:8080/"
        },
        "id": "qxvi_n8Jhgpn",
        "outputId": "658ccb3c-42c8-4918-c0ee-c8fc3c69adf2"
      },
      "source": [
        "print(distance.shape)"
      ],
      "execution_count": null,
      "outputs": [
        {
          "output_type": "stream",
          "text": [
            "(9999, 19999)\n"
          ],
          "name": "stdout"
        }
      ]
    },
    {
      "cell_type": "code",
      "metadata": {
        "id": "_cPTyFlfU9yE"
      },
      "source": [
        "k=15\n",
        "indices=knn.sort(distance,k)"
      ],
      "execution_count": null,
      "outputs": []
    },
    {
      "cell_type": "code",
      "metadata": {
        "colab": {
          "base_uri": "https://localhost:8080/"
        },
        "id": "d-ycKk8miEWX",
        "outputId": "7d3fda09-d87f-4047-e342-6480c66eecd4"
      },
      "source": [
        "print(indices.shape)"
      ],
      "execution_count": null,
      "outputs": [
        {
          "output_type": "stream",
          "text": [
            "(9999, 15)\n"
          ],
          "name": "stdout"
        }
      ]
    },
    {
      "cell_type": "code",
      "metadata": {
        "id": "jqfK2lL5CPed"
      },
      "source": [
        "class_value=knn.class_value(indices)"
      ],
      "execution_count": null,
      "outputs": []
    },
    {
      "cell_type": "code",
      "metadata": {
        "colab": {
          "base_uri": "https://localhost:8080/"
        },
        "id": "wa-xnzEokAdv",
        "outputId": "864e5be5-e070-4129-d163-55ebe4b81ddd"
      },
      "source": [
        "print(class_value.shape)"
      ],
      "execution_count": null,
      "outputs": [
        {
          "output_type": "stream",
          "text": [
            "(9999, 15)\n"
          ],
          "name": "stdout"
        }
      ]
    },
    {
      "cell_type": "code",
      "metadata": {
        "id": "kTuTtFzeVCgR",
        "colab": {
          "base_uri": "https://localhost:8080/"
        },
        "outputId": "bc3a8001-e76c-40f3-d251-aac4b9a0a713"
      },
      "source": [
        "class_label=knn.class_label(class_value)\n",
        "print(class_label[:10])"
      ],
      "execution_count": null,
      "outputs": [
        {
          "output_type": "stream",
          "text": [
            "[2 1 0 4 1 4 9 5 9 0]\n"
          ],
          "name": "stdout"
        }
      ]
    },
    {
      "cell_type": "code",
      "metadata": {
        "id": "0qIWUi-YDB6l",
        "colab": {
          "base_uri": "https://localhost:8080/"
        },
        "outputId": "6da27376-6736-4ec4-aa77-7db27cb43cf7"
      },
      "source": [
        "#calculate the accuracy\n",
        "\n",
        "numCorrect=0\n",
        "for i in range(test_x_row):\n",
        "  if class_label[i]==test_y[i]:\n",
        "    numCorrect+=1\n",
        "accuracy=numCorrect/test_x_row\n",
        "print(accuracy)"
      ],
      "execution_count": null,
      "outputs": [
        {
          "output_type": "stream",
          "text": [
            "0.9514951495149515\n"
          ],
          "name": "stdout"
        }
      ]
    }
  ]
}
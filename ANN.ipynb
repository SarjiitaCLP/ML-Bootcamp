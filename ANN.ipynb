{
  "nbformat": 4,
  "nbformat_minor": 0,
  "metadata": {
    "colab": {
      "name": "ANN.ipynb",
      "provenance": [],
      "collapsed_sections": []
    },
    "kernelspec": {
      "name": "python3",
      "display_name": "Python 3"
    },
    "language_info": {
      "name": "python"
    }
  },
  "cells": [
    {
      "cell_type": "code",
      "metadata": {
        "id": "_0qvFewPg4Tq"
      },
      "source": [
        "#import the libraries \n",
        "\n",
        "import pandas as pd\n",
        "import numpy as np"
      ],
      "execution_count": 1,
      "outputs": []
    },
    {
      "cell_type": "code",
      "metadata": {
        "id": "LJlgjiFlBqAO"
      },
      "source": [
        "#load the training dataset\n",
        "\n",
        "df=pd.read_csv('sample_data/mnist_train_small.csv')"
      ],
      "execution_count": 2,
      "outputs": []
    },
    {
      "cell_type": "code",
      "metadata": {
        "colab": {
          "base_uri": "https://localhost:8080/"
        },
        "id": "XSOZyxcHiLhY",
        "outputId": "51fda548-9fca-4a2b-968e-d941081156af"
      },
      "source": [
        "#split df into feature set 'train_X' and label 'train_y'\n",
        "\n",
        "train_y,train_X=np.hsplit(df,[1])\n",
        "print(train_y.head())\n",
        "print(train_X.head())"
      ],
      "execution_count": 3,
      "outputs": [
        {
          "output_type": "stream",
          "text": [
            "   6\n",
            "0  5\n",
            "1  7\n",
            "2  9\n",
            "3  5\n",
            "4  2\n",
            "   0  0.1  0.2  0.3  0.4  0.5  ...  0.585  0.586  0.587  0.588  0.589  0.590\n",
            "0  0    0    0    0    0    0  ...      0      0      0      0      0      0\n",
            "1  0    0    0    0    0    0  ...      0      0      0      0      0      0\n",
            "2  0    0    0    0    0    0  ...      0      0      0      0      0      0\n",
            "3  0    0    0    0    0    0  ...      0      0      0      0      0      0\n",
            "4  0    0    0    0    0    0  ...      0      0      0      0      0      0\n",
            "\n",
            "[5 rows x 784 columns]\n"
          ],
          "name": "stdout"
        }
      ]
    },
    {
      "cell_type": "code",
      "metadata": {
        "colab": {
          "base_uri": "https://localhost:8080/"
        },
        "id": "s9bWpmIZiPHI",
        "outputId": "8986e8cb-1916-439a-e4c0-f80543f78947"
      },
      "source": [
        "#normalize the feature set 'train_X' to get 'train_x'\n",
        "\n",
        "train_x=train_X.copy()\n",
        "\n",
        "#get the maximum datapoint in the entire feature set 'train_x'\n",
        "maximum=train_x.max().max()  \n",
        "print(maximum)\n",
        "\n",
        "#divide the entire feature set 'train_x' with 'maximum'\n",
        "train_x=train_x.div(maximum) \n",
        "train_x=train_x.astype('float64')\n",
        "print (train_x.sample(5))"
      ],
      "execution_count": 4,
      "outputs": [
        {
          "output_type": "stream",
          "text": [
            "255\n",
            "         0  0.1  0.2  0.3  0.4  0.5  ...  0.585  0.586  0.587  0.588  0.589  0.590\n",
            "14886  0.0  0.0  0.0  0.0  0.0  0.0  ...    0.0    0.0    0.0    0.0    0.0    0.0\n",
            "6879   0.0  0.0  0.0  0.0  0.0  0.0  ...    0.0    0.0    0.0    0.0    0.0    0.0\n",
            "3016   0.0  0.0  0.0  0.0  0.0  0.0  ...    0.0    0.0    0.0    0.0    0.0    0.0\n",
            "3399   0.0  0.0  0.0  0.0  0.0  0.0  ...    0.0    0.0    0.0    0.0    0.0    0.0\n",
            "5934   0.0  0.0  0.0  0.0  0.0  0.0  ...    0.0    0.0    0.0    0.0    0.0    0.0\n",
            "\n",
            "[5 rows x 784 columns]\n"
          ],
          "name": "stdout"
        }
      ]
    },
    {
      "cell_type": "code",
      "metadata": {
        "id": "4F1UmY5VOU_A",
        "colab": {
          "base_uri": "https://localhost:8080/"
        },
        "outputId": "404adeb4-fb72-41f4-b4ea-77093ed9408c"
      },
      "source": [
        "#'train_x_row' = number of rows in the feature set 'train_x'\n",
        "train_x_row=train_x.shape[0]\n",
        "print(train_x_row)\n",
        "\n",
        "#'train_x_col' = number of columns in the feature set 'train_x'\n",
        "train_x_col=train_x.shape[1]\n",
        "print(train_x_col)"
      ],
      "execution_count": 5,
      "outputs": [
        {
          "output_type": "stream",
          "text": [
            "19999\n",
            "784\n"
          ],
          "name": "stdout"
        }
      ]
    },
    {
      "cell_type": "code",
      "metadata": {
        "colab": {
          "base_uri": "https://localhost:8080/"
        },
        "id": "VTAqzo6xOK4n",
        "outputId": "def5bc91-3519-4d66-94c6-7d833ca94497"
      },
      "source": [
        "#check out how many unique classes are present in 'train_y'\n",
        "\n",
        "train_y=train_y.iloc[:,0]\n",
        "print(train_y.unique())\n",
        "\n",
        "#'u' is an array containing all the unique class values \n",
        "u=train_y.unique()\n",
        "clas=len(u)\n",
        "print(clas)"
      ],
      "execution_count": 6,
      "outputs": [
        {
          "output_type": "stream",
          "text": [
            "[5 7 9 2 0 6 8 3 4 1]\n",
            "10\n"
          ],
          "name": "stdout"
        }
      ]
    },
    {
      "cell_type": "code",
      "metadata": {
        "id": "d07SnCIadvCn"
      },
      "source": [
        "#convert feature and label dataframes to numpy array\n",
        "\n",
        "train_x=train_x.to_numpy()\n",
        "train_y=train_y.to_numpy()"
      ],
      "execution_count": 7,
      "outputs": []
    },
    {
      "cell_type": "code",
      "metadata": {
        "colab": {
          "base_uri": "https://localhost:8080/"
        },
        "id": "uixxTWQqvCxG",
        "outputId": "8c822f52-33a0-4a73-dbf7-b46bcc88ef63"
      },
      "source": [
        "#enable one hot classification\n",
        "\n",
        "one_hot_label=np.empty([train_x_row,clas])\n",
        "for i in range(clas):\n",
        "    for j in range(train_x_row):\n",
        "        if(train_y[j]==u[i]):\n",
        "            one_hot_label[j,i]=1\n",
        "        else:\n",
        "            one_hot_label[j,i]=0\n",
        "print(one_hot_label[:10]) "
      ],
      "execution_count": 8,
      "outputs": [
        {
          "output_type": "stream",
          "text": [
            "[[1. 0. 0. 0. 0. 0. 0. 0. 0. 0.]\n",
            " [0. 1. 0. 0. 0. 0. 0. 0. 0. 0.]\n",
            " [0. 0. 1. 0. 0. 0. 0. 0. 0. 0.]\n",
            " [1. 0. 0. 0. 0. 0. 0. 0. 0. 0.]\n",
            " [0. 0. 0. 1. 0. 0. 0. 0. 0. 0.]\n",
            " [0. 0. 0. 0. 1. 0. 0. 0. 0. 0.]\n",
            " [0. 0. 0. 0. 0. 1. 0. 0. 0. 0.]\n",
            " [1. 0. 0. 0. 0. 0. 0. 0. 0. 0.]\n",
            " [1. 0. 0. 0. 0. 0. 0. 0. 0. 0.]\n",
            " [0. 0. 0. 1. 0. 0. 0. 0. 0. 0.]]\n"
          ],
          "name": "stdout"
        }
      ]
    },
    {
      "cell_type": "code",
      "metadata": {
        "id": "6m8YWHeVJzL4"
      },
      "source": [
        "#define the class 'ann'\n",
        "\n",
        "class ann:\n",
        "\n",
        "  @staticmethod\n",
        "\n",
        "  #define the hypothesis that calculates the expression (w0.x0+w1.x1+w2.x2+.....)\n",
        "\n",
        "  def hypothesis(X,w,b):\n",
        "    hypothesis_output=np.dot(X,w)+b\n",
        "    return hypothesis_output\n",
        "\n",
        "  #define the sigmoid function\n",
        "\n",
        "  def sigmoid(x):\n",
        "    sigmoid=(1/(1+np.exp(-x))).astype('float64')\n",
        "    return sigmoid\n",
        "\n",
        "  #define the derivative of sigmoid function\n",
        "\n",
        "  def sigmoid_der(x):\n",
        "    return (ann.sigmoid(x))*(1-(ann.sigmoid(x)))\n",
        "\n",
        "  #define the softmax function\n",
        "\n",
        "  def softmax(A):\n",
        "    expA=np.exp(A)\n",
        "    return expA/np.sum(expA)\n",
        "\n",
        "  #define the training function\n",
        "\n",
        "  def train(train_x,one_hot_label,wh,bh,wo,bo,alpha,epoch):\n",
        "\n",
        "    for epoch in range(epoch):\n",
        "    \n",
        "      #feedforward phase\n",
        "    \n",
        "      #phase 1: feedforward from input layer to hidden layer\n",
        "      zh=ann.hypothesis(train_x,wh,bh)\n",
        "      ah=ann.sigmoid(zh)\n",
        "    \n",
        "      #phase 2: feedforward from hidden layer to output layer\n",
        "      zo=ann.hypothesis(ah,wo,bo)\n",
        "      ao=ann.softmax(zo)\n",
        "    \n",
        "      #backpropagation phase\n",
        "    \n",
        "      #phase 1: backpropagation from output layer to hidden layer\n",
        "      #formula for gradient descent for attribute terms: dcost_dwo=(dcost_dzo)*(dzo_dwo)\n",
        "      dcost_dzo=ao-one_hot_label\n",
        "      dzo_dwo=ah\n",
        "      dcost_dwo=np.dot(dzo_dwo.T,dcost_dzo)\n",
        "      #formula for gradient descent for bias term: dcost_dbo=(dcost_dzo)*(dzo_dwo)  [dzo_dwo=1]\n",
        "      dcost_dbo=dcost_dzo\n",
        "    \n",
        "      #phase 2: backpropagation from hidden layer to input layer\n",
        "      #formula for gradient descent for attribute terms: dcost_dwh=(dcost_dzo)*(dzo_dah)*(dah_dzh)*(dzh_dwh)\n",
        "      dzo_dah=wo\n",
        "      dcost_dah=np.dot(dcost_dzo,dzo_dah.T)   #dcost_dah=(dcost_dzo)*(dzo_dah)\n",
        "      dah_dzh=ann.sigmoid_der(zh)\n",
        "      dzh_dwh=train_x\n",
        "      dcost_dwh=np.dot(dzh_dwh.T,dah_dzh*dcost_dah)   #dcost_dwh=(dcost_dah)*(dah_dzh)*(dzh_dwh)\n",
        "      #formula for gradient descent for bias term: dcost_dbh=(dcost_dah)*(dah_dzh)*(dzh_dbh)  [dzh_dbh=1]\n",
        "      dcost_dbh=dcost_dah*dah_dzh\n",
        "    \n",
        "      #update weights for hidden layer\n",
        "      wh-=lr*dcost_dwh\n",
        "      bh-=lr*dcost_dbh.sum(axis=0)\n",
        "      \n",
        "      #update weights for output layer\n",
        "      wo-=lr*dcost_dwo\n",
        "      bo-=lr*dcost_dbo.sum(axis=0)\n",
        "\n",
        "    return wh,bh,wo,bo\n"
      ],
      "execution_count": 16,
      "outputs": []
    },
    {
      "cell_type": "code",
      "metadata": {
        "id": "ppqHUcy0Kbln",
        "colab": {
          "base_uri": "https://localhost:8080/"
        },
        "outputId": "49557c17-5890-4b0d-d7b3-d26faf9bbabd"
      },
      "source": [
        "hidden_nodes=4\n",
        "output_labels=clas\n",
        "\n",
        "np.random.seed(100)\n",
        "\n",
        "#wh and bh are weights and bias respectively, for hidden layer\n",
        "wh=np.random.rand(train_x_col,hidden_nodes)\n",
        "print(wh.shape)\n",
        "bh=np.random.randn(hidden_nodes)\n",
        "print(bh.shape)\n",
        "\n",
        "#wo and bo are weights and bias respectively, for output layer\n",
        "wo=np.random.rand(hidden_nodes,output_labels)\n",
        "print(wo.shape)\n",
        "bo=np.random.randn(output_labels)\n",
        "print(bo.shape)\n",
        "\n",
        "lr=0.0000001    #lr=learning rate\n",
        "epoch=50"
      ],
      "execution_count": 66,
      "outputs": [
        {
          "output_type": "stream",
          "text": [
            "(784, 4)\n",
            "(4,)\n",
            "(4, 10)\n",
            "(10,)\n"
          ],
          "name": "stdout"
        }
      ]
    },
    {
      "cell_type": "code",
      "metadata": {
        "id": "NBNKHSdzMSrv"
      },
      "source": [
        "#call the training function\n",
        "\n",
        "wh,bh,wo,bo=ann.train(train_x,one_hot_label,wh,bh,wo,bo,lr,epoch)"
      ],
      "execution_count": 67,
      "outputs": []
    },
    {
      "cell_type": "code",
      "metadata": {
        "colab": {
          "base_uri": "https://localhost:8080/"
        },
        "id": "dgYsHtQ6tzpw",
        "outputId": "7e3ef67c-2ade-4bb2-a50b-7cb63d4963b5"
      },
      "source": [
        "#print the weights & the biases\n",
        "\n",
        "print(wh)\n",
        "print(bh)\n",
        "print(wo)\n",
        "print(bo)"
      ],
      "execution_count": null,
      "outputs": [
        {
          "output_type": "stream",
          "text": [
            "[[0.54340494 0.27836939 0.42451759 0.84477613]\n",
            " [0.00471886 0.12156912 0.67074908 0.82585276]\n",
            " [0.13670659 0.57509333 0.89132195 0.20920212]\n",
            " ...\n",
            " [0.10588135 0.57201569 0.83075592 0.49385501]\n",
            " [0.68247216 0.5340313  0.41530805 0.25293348]\n",
            " [0.28482729 0.16487699 0.18607189 0.22663423]]\n",
            "[ 0.5944669  -1.14899632 -0.81917881  0.18340385]\n",
            "[[0.51523673 0.70676402 0.06715192 0.41435613 0.0565391  0.8741224\n",
            "  0.39667021 0.32834421 0.93788682 0.28829348]\n",
            " [0.78926249 0.72849646 0.77581433 0.80760698 0.51456583 0.2594579\n",
            "  0.57921785 0.7476789  0.73870223 0.0667448 ]\n",
            " [0.57070807 0.61423745 0.21101899 0.7000436  0.76646654 0.78090019\n",
            "  0.81683006 0.70616957 0.02143111 0.60420069]\n",
            " [0.75640088 0.23068058 0.03104413 0.1290917  0.88122974 0.52328119\n",
            "  0.55079941 0.21391375 0.59181768 0.01948783]]\n",
            "[ 0.36524567 -0.13411274 -1.24241509  0.18093653  2.78613215 -1.20988845\n",
            " -0.33197091  0.4648701   0.24804543 -0.10539259]\n"
          ],
          "name": "stdout"
        }
      ]
    },
    {
      "cell_type": "code",
      "metadata": {
        "id": "IYnRBez6ut38"
      },
      "source": [
        "#load the test dataset\n",
        "\n",
        "data=pd.read_csv('sample_data/mnist_test.csv')"
      ],
      "execution_count": 20,
      "outputs": []
    },
    {
      "cell_type": "code",
      "metadata": {
        "id": "rfIC0Eg0o8uj",
        "colab": {
          "base_uri": "https://localhost:8080/"
        },
        "outputId": "4dbaa9c0-adb8-4386-d53e-2f0da2534c64"
      },
      "source": [
        "#split 'data' into feature set 'test_X' and label 'test_y'\n",
        "\n",
        "test_y,test_X=np.hsplit(data,[1])\n",
        "print(test_y.head())\n",
        "print(test_X.head())"
      ],
      "execution_count": 21,
      "outputs": [
        {
          "output_type": "stream",
          "text": [
            "   7\n",
            "0  2\n",
            "1  1\n",
            "2  0\n",
            "3  4\n",
            "4  1\n",
            "   0  0.1  0.2  0.3  0.4  0.5  ...  0.662  0.663  0.664  0.665  0.666  0.667\n",
            "0  0    0    0    0    0    0  ...      0      0      0      0      0      0\n",
            "1  0    0    0    0    0    0  ...      0      0      0      0      0      0\n",
            "2  0    0    0    0    0    0  ...      0      0      0      0      0      0\n",
            "3  0    0    0    0    0    0  ...      0      0      0      0      0      0\n",
            "4  0    0    0    0    0    0  ...      0      0      0      0      0      0\n",
            "\n",
            "[5 rows x 784 columns]\n"
          ],
          "name": "stdout"
        }
      ]
    },
    {
      "cell_type": "code",
      "metadata": {
        "id": "WmsCsutQo_-O",
        "colab": {
          "base_uri": "https://localhost:8080/"
        },
        "outputId": "6bf44f9a-76b1-4195-9d9c-21c891b1d7c5"
      },
      "source": [
        "#normalize the feature set 'test_X' to get 'test_x'\n",
        "\n",
        "test_x=test_X.copy()\n",
        "test_maximum=test_x.max().max()\n",
        "print(test_maximum)\n",
        "\n",
        "test_x=test_x.div(test_maximum)\n",
        "test_x=test_x.astype('float64')\n",
        "print (test_x.sample(5))"
      ],
      "execution_count": 22,
      "outputs": [
        {
          "output_type": "stream",
          "text": [
            "255\n",
            "        0  0.1  0.2  0.3  0.4  0.5  ...  0.662  0.663  0.664  0.665  0.666  0.667\n",
            "7532  0.0  0.0  0.0  0.0  0.0  0.0  ...    0.0    0.0    0.0    0.0    0.0    0.0\n",
            "357   0.0  0.0  0.0  0.0  0.0  0.0  ...    0.0    0.0    0.0    0.0    0.0    0.0\n",
            "9606  0.0  0.0  0.0  0.0  0.0  0.0  ...    0.0    0.0    0.0    0.0    0.0    0.0\n",
            "7418  0.0  0.0  0.0  0.0  0.0  0.0  ...    0.0    0.0    0.0    0.0    0.0    0.0\n",
            "5250  0.0  0.0  0.0  0.0  0.0  0.0  ...    0.0    0.0    0.0    0.0    0.0    0.0\n",
            "\n",
            "[5 rows x 784 columns]\n"
          ],
          "name": "stdout"
        }
      ]
    },
    {
      "cell_type": "code",
      "metadata": {
        "colab": {
          "base_uri": "https://localhost:8080/"
        },
        "id": "MIVVhr6B-4a1",
        "outputId": "7982943b-9ecc-432c-aa07-4bd55423dda1"
      },
      "source": [
        "#'test_x_row' = number of rows in feature set 'test_x'\n",
        "test_x_row=test_x.shape[0]\n",
        "print(test_x_row)\n",
        "\n",
        "#'test_x_col' = number of columns in feature set 'test_x'\n",
        "test_x_col=test_x.shape[1]\n",
        "print(test_x_col)"
      ],
      "execution_count": 25,
      "outputs": [
        {
          "output_type": "stream",
          "text": [
            "9999\n",
            "784\n"
          ],
          "name": "stdout"
        }
      ]
    },
    {
      "cell_type": "code",
      "metadata": {
        "id": "pkejJ64DpHgV"
      },
      "source": [
        "#convert the dataframes into numpy arrays\n",
        "\n",
        "test_y=test_y.to_numpy()\n",
        "test_x=test_x.to_numpy()"
      ],
      "execution_count": 23,
      "outputs": []
    },
    {
      "cell_type": "code",
      "metadata": {
        "id": "bRK7rVDjpU6v",
        "colab": {
          "base_uri": "https://localhost:8080/"
        },
        "outputId": "9f18b183-21d5-4cc7-bf8f-a4024156d353"
      },
      "source": [
        "#create one_hot_label for test dataset\n",
        "\n",
        "test_one_hot_label=np.empty([test_x_row,clas])\n",
        "for i in range(clas):\n",
        "    for j in range(test_x_row):\n",
        "        if(test_y[j]==u[i]):\n",
        "            test_one_hot_label[j,i]=1\n",
        "        else:\n",
        "            test_one_hot_label[j,i]=0\n",
        "print(test_one_hot_label[:10]) "
      ],
      "execution_count": 69,
      "outputs": [
        {
          "output_type": "stream",
          "text": [
            "[[0. 0. 0. 1. 0. 0. 0. 0. 0. 0.]\n",
            " [0. 0. 0. 0. 0. 0. 0. 0. 0. 1.]\n",
            " [0. 0. 0. 0. 1. 0. 0. 0. 0. 0.]\n",
            " [0. 0. 0. 0. 0. 0. 0. 0. 1. 0.]\n",
            " [0. 0. 0. 0. 0. 0. 0. 0. 0. 1.]\n",
            " [0. 0. 0. 0. 0. 0. 0. 0. 1. 0.]\n",
            " [0. 0. 1. 0. 0. 0. 0. 0. 0. 0.]\n",
            " [1. 0. 0. 0. 0. 0. 0. 0. 0. 0.]\n",
            " [0. 0. 1. 0. 0. 0. 0. 0. 0. 0.]\n",
            " [0. 0. 0. 0. 1. 0. 0. 0. 0. 0.]]\n"
          ],
          "name": "stdout"
        }
      ]
    },
    {
      "cell_type": "code",
      "metadata": {
        "colab": {
          "base_uri": "https://localhost:8080/"
        },
        "id": "-IBizmSJCeO7",
        "outputId": "157dd2f2-4815-49b7-8bb9-7cb9343e7273"
      },
      "source": [
        "#predict outputs on test dataset\n",
        "\n",
        "#phase 1\n",
        "test_zh=ann.hypothesis(test_x,wh,bh)\n",
        "test_ah=ann.sigmoid(test_zh)\n",
        "    \n",
        "#phase 2\n",
        "test_zo=ann.hypothesis(test_ah,wo,bo)\n",
        "test_ao=ann.softmax(test_zo)\n",
        "\n",
        "print(test_ao)"
      ],
      "execution_count": null,
      "outputs": [
        {
          "output_type": "stream",
          "text": [
            "[[3.91716675e-03 6.93755065e-38 1.56613945e-01 ... 1.00913585e-24\n",
            "  2.02601127e-02 8.19205468e-01]\n",
            " [3.91716745e-03 6.93756835e-38 1.56613947e-01 ... 1.00913751e-24\n",
            "  2.02601162e-02 8.19205462e-01]\n",
            " [3.91716675e-03 6.93755065e-38 1.56613945e-01 ... 1.00913585e-24\n",
            "  2.02601127e-02 8.19205468e-01]\n",
            " ...\n",
            " [3.91716675e-03 6.93755065e-38 1.56613945e-01 ... 1.00913585e-24\n",
            "  2.02601127e-02 8.19205468e-01]\n",
            " [3.91716675e-03 6.93755065e-38 1.56613945e-01 ... 1.00913585e-24\n",
            "  2.02601127e-02 8.19205468e-01]\n",
            " [3.91716675e-03 6.93755065e-38 1.56613945e-01 ... 1.00913585e-24\n",
            "  2.02601127e-02 8.19205468e-01]]\n"
          ],
          "name": "stdout"
        }
      ]
    },
    {
      "cell_type": "code",
      "metadata": {
        "colab": {
          "base_uri": "https://localhost:8080/"
        },
        "id": "WsEAhPFzCyEZ",
        "outputId": "ce92a8c6-94a1-4cf6-d48f-d81d96b3778d"
      },
      "source": [
        "#calculate accuracy on test dataset\n",
        "\n",
        "test_accuracy = 0\n",
        "for col in range(0, 10):\n",
        "    for row in range(test_x_row):\n",
        "        if test_one_hot_label[row][col] == 1 and test_ao[row][col] >= 0.5:\n",
        "            test_accuracy += 1\n",
        "test_accuracy = test_accuracy/test_x_row\n",
        "print(test_accuracy)"
      ],
      "execution_count": null,
      "outputs": [
        {
          "output_type": "stream",
          "text": [
            "0.11351135113511351\n"
          ],
          "name": "stdout"
        }
      ]
    }
  ]
}